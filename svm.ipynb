{
 "cells": [
  {
   "cell_type": "markdown",
   "metadata": {},
   "source": [
    "# Grid Search with SVM"
   ]
  },
  {
   "cell_type": "code",
   "execution_count": 1,
   "metadata": {},
   "outputs": [],
   "source": [
    "import pandas as pd\n",
    "import matplotlib.pyplot as plt\n",
    "import random\n",
    "import numpy as np\n",
    "import matplotlib.axes as axes\n",
    "\n",
    "from sklearn.metrics import (\n",
    "    confusion_matrix,\n",
    "    accuracy_score,\n",
    "    precision_score,\n",
    "    recall_score,\n",
    "    f1_score\n",
    ")\n",
    "from sklearn.preprocessing import StandardScaler\n",
    "\n",
    "import torch\n",
    "import random"
   ]
  },
  {
   "cell_type": "code",
   "execution_count": 2,
   "metadata": {},
   "outputs": [],
   "source": [
    "seed = 42\n",
    "\n",
    "random.seed(seed)\n",
    "torch.manual_seed(seed)\n",
    "if torch.cuda.is_available():\n",
    "    torch.cuda.manual_seed(seed)\n",
    "np.random.seed(seed)"
   ]
  },
  {
   "cell_type": "code",
   "execution_count": 3,
   "metadata": {},
   "outputs": [],
   "source": [
    "data = pd.read_csv('./data/dataset.csv', sep=',')"
   ]
  },
  {
   "cell_type": "code",
   "execution_count": 4,
   "metadata": {},
   "outputs": [],
   "source": [
    "# remove nan values\n",
    "data = data.dropna()\n",
    "# shuffle the data for the splitting\n",
    "data = data.sample(frac=1)\n",
    "\n",
    "list_of_classes = sorted(data['Class'].unique())\n",
    "classes_to_idx = {list_of_classes[i]: i for i in range(len(list_of_classes))}\n",
    "nb_classes = len(list_of_classes)\n",
    "nb_rows = data.shape[0]\n",
    "train_split = 0.8\n",
    "val_split = 0.0\n",
    "\n",
    "train_data = data.iloc[:int(nb_rows*train_split), :]\n",
    "val_data = data.iloc[int(nb_rows*train_split):int(nb_rows*(train_split+val_split)), :]\n",
    "test_data = data.iloc[int(nb_rows*(train_split+val_split)):, :]\n"
   ]
  },
  {
   "cell_type": "code",
   "execution_count": 5,
   "metadata": {},
   "outputs": [
    {
     "name": "stdout",
     "output_type": "stream",
     "text": [
      "(2560, 800)\n"
     ]
    }
   ],
   "source": [
    "# Get the train, validation and test data\n",
    "x_train = train_data.drop(columns=['Class']).to_numpy()\n",
    "y_train = [ classes_to_idx[classe] for classe in train_data['Class'].to_list() ]\n",
    "x_val = val_data.drop(columns=['Class']).to_numpy()\n",
    "y_val = [ classes_to_idx[classe] for classe in val_data['Class'].to_list() ]\n",
    "x_test = test_data.drop(columns=['Class']).to_numpy()\n",
    "y_test = [ classes_to_idx[classe] for classe in test_data['Class'].to_list() ]\n",
    "\n",
    "x_train_scaled = None\n",
    "x_val_scaled = None\n",
    "x_test_scaled = None\n",
    "\n",
    "config = {  'dataset': {\n",
    "                'normalize': False,\n",
    "                'normalize_type': 'scale',\n",
    "            }\n",
    "        }\n",
    "\n",
    "# Apply the transformations to the data before fitting the selected model\n",
    "if config['dataset']['normalize']:\n",
    "    # Normalize the data\n",
    "    # here we do not normalize\n",
    "    if config['dataset']['normalize_type'] == 'scale':\n",
    "        # Scale the data\n",
    "        scaler = StandardScaler()\n",
    "        x_train_scaled = scaler.fit_transform(x_train)\n",
    "        if len(x_val) > 0:\n",
    "            x_val_scaled = scaler.transform(x_val)\n",
    "        x_test_scaled = scaler.transform(x_test)\n",
    "\n",
    "# find peaks\n",
    "from scipy.signal import find_peaks\n",
    "\n",
    "def find_peaks_in_data(data):\n",
    "    peaks = []\n",
    "    max_len = 40\n",
    "    for i in range(data.shape[0]):\n",
    "        p, _ = find_peaks(data[i, :], height=200, distance=20)\n",
    "\n",
    "        features = []\n",
    "        \n",
    "        for j in range(len(p)):\n",
    "            features.append( ( p[j], data[i, p[j]]) )\n",
    "\n",
    "        max_len = max(max_len, len(p))\n",
    "        peaks.append(features)\n",
    "\n",
    "    for i in range(len(peaks)):\n",
    "        for j in range(len(peaks[i]), max_len):\n",
    "            peaks[i].append( (0, 0) )\n",
    "        \n",
    "    return np.asfarray(peaks)\n",
    "\n",
    "# x_train = find_peaks_in_data(x_train)\n",
    "# #peaks_val = find_peaks_in_data(x_val)\n",
    "# x_test = find_peaks_in_data(x_test)\n",
    "\n",
    "\n",
    "print(x_train.shape)\n"
   ]
  },
  {
   "cell_type": "code",
   "execution_count": 6,
   "metadata": {},
   "outputs": [],
   "source": [
    "\n",
    "# import support vector classifier \n",
    "# \"Support Vector Classifier\"\n",
    "from sklearn.svm import SVC  \n",
    "from sklearn.model_selection import GridSearchCV\n",
    "clf = SVC(kernel='rbf', C=1, gamma='auto')\n",
    "\n",
    "# defining parameter range\n",
    "clf.fit(x_train, y_train)\n",
    "\n",
    "y_pred = clf.predict(x_test)"
   ]
  },
  {
   "cell_type": "code",
   "execution_count": 7,
   "metadata": {},
   "outputs": [
    {
     "name": "stdout",
     "output_type": "stream",
     "text": [
      "Best Hyperparameters: {'C': 0.1, 'degree': 2, 'gamma': 0.01, 'kernel': 'poly'}\n"
     ]
    }
   ],
   "source": [
    "\n",
    "# import support vector classifier \n",
    "# \"Support Vector Classifier\"\n",
    "from sklearn.svm import SVC  \n",
    "from sklearn.model_selection import GridSearchCV\n",
    "clf = SVC() \n",
    "\n",
    "# Define the hyperparameters and their potential values\n",
    "param_grid = {\n",
    "    'C': [0.1, 1, 10, 100],  # Regularization parameter\n",
    "    'kernel': ['linear', 'rbf', 'poly'],  # Kernel type\n",
    "    'gamma': [0.01, 0.1, 1, 'auto'],  # Kernel coefficient (for 'rbf' and 'poly')\n",
    "    'degree': [2, 3, 4]  # Degree of the polynomial kernel (for 'poly')\n",
    "}\n",
    "\n",
    "# Perform grid search with cross-validation\n",
    "grid_search = GridSearchCV(estimator=clf, param_grid=param_grid, cv=5, scoring='accuracy', n_jobs=4)\n",
    "grid_search.fit(x_train if x_train_scaled is None else x_train_scaled, y_train)\n",
    "\n",
    "# Get the best hyperparameters\n",
    "best_params = grid_search.best_params_\n",
    "print(\"Best Hyperparameters:\", best_params)\n",
    "\n",
    "# Evaluate the model with the best hyperparameters on the test set\n",
    "best_svm_model = grid_search.best_estimator_"
   ]
  },
  {
   "cell_type": "code",
   "execution_count": 8,
   "metadata": {},
   "outputs": [],
   "source": [
    "# fitting x samples and y classes \n",
    "best_svm_model.fit(x_train if x_train_scaled is None else x_train_scaled, y_train) \n",
    "y_pred = best_svm_model.predict(x_test if x_test_scaled is None else x_test_scaled)"
   ]
  },
  {
   "cell_type": "code",
   "execution_count": 9,
   "metadata": {},
   "outputs": [
    {
     "name": "stdout",
     "output_type": "stream",
     "text": [
      "0.9082281857522945\n",
      "0.9079563182527302\n"
     ]
    },
    {
     "data": {
      "text/plain": [
       "array([[149,  12,  10,   1],\n",
       "       [ 13, 138,   1,   2],\n",
       "       [ 15,   2, 127,   0],\n",
       "       [  2,   0,   1, 168]], dtype=int64)"
      ]
     },
     "execution_count": 9,
     "metadata": {},
     "output_type": "execute_result"
    }
   ],
   "source": [
    "_f1_score = f1_score(y_test, y_pred, average =\"weighted\")\n",
    "print(_f1_score)\n",
    "\n",
    "_accuracy_score = accuracy_score(y_test, y_pred.tolist())\n",
    "print(_accuracy_score)\n",
    "\n",
    "conf_matrix = confusion_matrix(y_test, y_pred.tolist())\n",
    "conf_matrix"
   ]
  },
  {
   "cell_type": "code",
   "execution_count": null,
   "metadata": {},
   "outputs": [],
   "source": []
  }
 ],
 "metadata": {
  "kernelspec": {
   "display_name": "spectron",
   "language": "python",
   "name": "python3"
  },
  "language_info": {
   "codemirror_mode": {
    "name": "ipython",
    "version": 3
   },
   "file_extension": ".py",
   "mimetype": "text/x-python",
   "name": "python",
   "nbconvert_exporter": "python",
   "pygments_lexer": "ipython3",
   "version": "3.10.13"
  }
 },
 "nbformat": 4,
 "nbformat_minor": 2
}
