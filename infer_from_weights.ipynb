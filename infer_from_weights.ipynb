{
 "cells": [
  {
   "cell_type": "markdown",
   "metadata": {},
   "source": [
    "# Infer the model from weights"
   ]
  },
  {
   "cell_type": "code",
   "execution_count": 1,
   "metadata": {},
   "outputs": [],
   "source": [
    "import random\n",
    "import numpy as np\n",
    "import torch\n",
    "import torch.backends.cudnn as cudnn\n",
    "import os\n",
    "import matplotlib.pyplot as plt\n",
    "import pandas as pd\n",
    "from sklearn.preprocessing import StandardScaler\n",
    "\n",
    "\n",
    "\n",
    "# Set the seed for reproducibility\n",
    "seed = 42\n",
    "cudnn.benchmark = False\n",
    "cudnn.deterministic = True\n",
    "\n",
    "random.seed(seed)\n",
    "torch.manual_seed(seed)\n",
    "if torch.cuda.is_available():\n",
    "    torch.cuda.manual_seed(seed)\n",
    "np.random.seed(seed)"
   ]
  },
  {
   "cell_type": "code",
   "execution_count": 2,
   "metadata": {},
   "outputs": [
    {
     "name": "stderr",
     "output_type": "stream",
     "text": [
      "c:\\Users\\yanni\\anaconda3\\envs\\last\\lib\\site-packages\\tqdm\\auto.py:21: TqdmWarning: IProgress not found. Please update jupyter and ipywidgets. See https://ipywidgets.readthedocs.io/en/stable/user_install.html\n",
      "  from .autonotebook import tqdm as notebook_tqdm\n"
     ]
    }
   ],
   "source": [
    "from factory.trainer import Trainer\n",
    "from sklearn.metrics import (\n",
    "    confusion_matrix,\n",
    "    accuracy_score,\n",
    "    precision_score,\n",
    "    recall_score,\n",
    "    f1_score\n",
    ")"
   ]
  },
  {
   "cell_type": "markdown",
   "metadata": {},
   "source": [
    "## Load the trained model"
   ]
  },
  {
   "cell_type": "code",
   "execution_count": 3,
   "metadata": {},
   "outputs": [],
   "source": [
    "if torch.cuda.is_available():\n",
    "    model = torch.jit.load(os.path.join(\"best_models\", \"scripted_model.pt\"), map_location=torch.device(\"cuda\"))\n",
    "else:\n",
    "    model = torch.jit.load(os.path.join(\"best_models\", \"scripted_model.pt\"), map_location=torch.device(\"cpu\"))"
   ]
  },
  {
   "cell_type": "markdown",
   "metadata": {},
   "source": [
    "## Load the dataset"
   ]
  },
  {
   "cell_type": "code",
   "execution_count": 4,
   "metadata": {},
   "outputs": [],
   "source": [
    "data = pd.read_csv('./data/dataset.csv', sep=',')\n",
    "# remove nan values\n",
    "data = data.dropna()\n",
    "# shuffle the data for the splitting\n",
    "data = data.sample(frac=1)\n",
    "\n",
    "list_of_classes = sorted(data['Class'].unique())\n",
    "classes_to_idx = {list_of_classes[i]: i for i in range(len(list_of_classes))}\n",
    "nb_classes = len(list_of_classes)\n",
    "nb_rows = data.shape[0]\n",
    "train_split = 0.8\n",
    "val_split = 0.0\n",
    "\n",
    "train_data = data.iloc[:int(nb_rows*train_split), :]\n",
    "val_data = data.iloc[int(nb_rows*train_split):int(nb_rows*(train_split+val_split)), :]\n",
    "test_data = data.iloc[int(nb_rows*(train_split+val_split)):, :]\n",
    "\n",
    "\n"
   ]
  },
  {
   "cell_type": "markdown",
   "metadata": {},
   "source": [
    "## Scaling"
   ]
  },
  {
   "cell_type": "code",
   "execution_count": 5,
   "metadata": {},
   "outputs": [],
   "source": [
    "x_train = train_data.drop(columns=['Class']).to_numpy()\n",
    "y_train = [ classes_to_idx[classe] for classe in train_data['Class'].to_list() ]\n",
    "x_val = val_data.drop(columns=['Class']).to_numpy()\n",
    "y_val = [ classes_to_idx[classe] for classe in val_data['Class'].to_list() ]\n",
    "x_test = test_data.drop(columns=['Class']).to_numpy()\n",
    "y_test = [ classes_to_idx[classe] for classe in test_data['Class'].to_list() ]\n",
    "\n",
    "x_train_scaled = None\n",
    "x_val_scaled = None\n",
    "x_test_scaled = None\n",
    "\n",
    "config = {  'dataset': {\n",
    "                'normalize': True,\n",
    "                'normalize_type': 'scale',\n",
    "            }\n",
    "        }\n",
    "\n",
    "# Apply the transformations to the data before fitting the selected model\n",
    "if config['dataset']['normalize']:\n",
    "    # Normalize the data\n",
    "    # here we do not normalize\n",
    "    if config['dataset']['normalize_type'] == 'scale':\n",
    "        # Scale the data\n",
    "        scaler = StandardScaler()\n",
    "        x_train_scaled = scaler.fit_transform(x_train)\n",
    "        if len(x_val) > 0:\n",
    "            x_val_scaled = scaler.transform(x_val)\n",
    "        x_test_scaled = scaler.transform(x_test)"
   ]
  },
  {
   "cell_type": "markdown",
   "metadata": {},
   "source": [
    "# Perform prediction on the loaded model"
   ]
  },
  {
   "cell_type": "code",
   "execution_count": 6,
   "metadata": {},
   "outputs": [],
   "source": [
    "y_pred = []\n",
    "\n",
    "for i in range(x_test_scaled.shape[0]):\n",
    "    x = torch.from_numpy(x_test_scaled[i]).unsqueeze(0).float().to('cuda')\n",
    "    y = torch.tensor(y_test[i])\n",
    "    out = model(x)\n",
    "    y_pred.append(out.argmax(1).item())"
   ]
  },
  {
   "cell_type": "markdown",
   "metadata": {},
   "source": [
    "# Display the metrics"
   ]
  },
  {
   "cell_type": "code",
   "execution_count": 7,
   "metadata": {},
   "outputs": [
    {
     "name": "stdout",
     "output_type": "stream",
     "text": [
      "Accuracy: 92.98%\n",
      "F1: 93.00%\n",
      "Precision: 93.05%\n",
      "Recall: 92.98%\n"
     ]
    },
    {
     "data": {
      "image/png": "[encoded data removed]",
      "text/plain": [
       "<Figure size 800x800 with 1 Axes>"
      ]
     },
     "metadata": {},
     "output_type": "display_data"
    }
   ],
   "source": [
    "# Compute the accuracy\n",
    "accuracy = accuracy_score(y_test, y_pred)\n",
    "f1 = f1_score(y_test, y_pred, average =\"weighted\")\n",
    "precision = precision_score(y_test, y_pred, average =\"weighted\")\n",
    "recall = recall_score(y_test, y_pred, average =\"weighted\")\n",
    "\n",
    "print(\"Accuracy: {:.2f}%\".format(accuracy * 100))\n",
    "print(\"F1: {:.2f}%\".format(f1 * 100))\n",
    "print(\"Precision: {:.2f}%\".format(precision * 100))\n",
    "print(\"Recall: {:.2f}%\".format(recall * 100))\n",
    "\n",
    "import matplotlib.pyplot as plt\n",
    "import seaborn as sns\n",
    "\n",
    "plt.figure(figsize=(8,8))\n",
    "sns.set(font_scale = 1.5)\n",
    "\n",
    "conf_matrix = confusion_matrix(y_test, y_pred)\n",
    "\n",
    "\n",
    "ax = sns.heatmap(\n",
    "    conf_matrix, # confusion matrix 2D array \n",
    "    annot=True, # show numbers in the cells\n",
    "    fmt='d', # show numbers as integers\n",
    "    cbar=False, # don't show the color bar\n",
    "    cmap='Blues', # customize color map\n",
    "    vmax=175 # to get better color contrast\n",
    ")\n",
    "\n",
    "ax.set_xlabel(\"Predicted\", labelpad=20)\n",
    "ax.set_ylabel(\"Actual\", labelpad=20)\n",
    "plt.show()"
   ]
  },
  {
   "cell_type": "markdown",
   "metadata": {},
   "source": []
  }
 ],
 "metadata": {
  "kernelspec": {
   "display_name": "spectron",
   "language": "python",
   "name": "python3"
  },
  "language_info": {
   "codemirror_mode": {
    "name": "ipython",
    "version": 3
   },
   "file_extension": ".py",
   "mimetype": "text/x-python",
   "name": "python",
   "nbconvert_exporter": "python",
   "pygments_lexer": "ipython3",
   "version": "3.10.13"
  }
 },
 "nbformat": 4,
 "nbformat_minor": 2
}
